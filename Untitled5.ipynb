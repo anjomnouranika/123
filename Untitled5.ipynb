{
  "nbformat": 4,
  "nbformat_minor": 0,
  "metadata": {
    "colab": {
      "name": "Untitled5.ipynb",
      "provenance": [],
      "collapsed_sections": [],
      "authorship_tag": "ABX9TyPOPcs4N1MB4BZvSFURqy51",
      "include_colab_link": true
    },
    "kernelspec": {
      "name": "python3",
      "display_name": "Python 3"
    }
  },
  "cells": [
    {
      "cell_type": "markdown",
      "metadata": {
        "id": "view-in-github",
        "colab_type": "text"
      },
      "source": [
        "<a href=\"https://colab.research.google.com/github/anjomnouranika/123/blob/master/Untitled5.ipynb\" target=\"_parent\"><img src=\"https://colab.research.google.com/assets/colab-badge.svg\" alt=\"Open In Colab\"/></a>"
      ]
    },
    {
      "cell_type": "code",
      "metadata": {
        "id": "6SyiR-Cv0VLY",
        "colab_type": "code",
        "colab": {
          "base_uri": "https://localhost:8080/",
          "height": 51
        },
        "outputId": "25ce8860-e3b8-46d8-84c6-1274e846fccd"
      },
      "source": [
        "year = int(input(\"year =\"))\n",
        "if year % 4 == 0 or year % 400 == 0 and year % 100 != 0:\n",
        "  print(\" %1d is leap year\" %(year))\n",
        "else:\n",
        "  print(\"%1d is not leap yera\"%(year))  "
      ],
      "execution_count": null,
      "outputs": [
        {
          "output_type": "stream",
          "text": [
            "year =2018\n",
            "2018 isnot leap yera\n"
          ],
          "name": "stdout"
        }
      ]
    }
  ]
}