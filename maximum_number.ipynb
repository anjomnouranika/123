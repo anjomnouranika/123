{
  "nbformat": 4,
  "nbformat_minor": 0,
  "metadata": {
    "colab": {
      "name": "maximum .number",
      "provenance": [],
      "authorship_tag": "ABX9TyNbiwJtk1SPkiYRaPmeQPOZ",
      "include_colab_link": true
    },
    "kernelspec": {
      "name": "python3",
      "display_name": "Python 3"
    }
  },
  "cells": [
    {
      "cell_type": "markdown",
      "metadata": {
        "id": "view-in-github",
        "colab_type": "text"
      },
      "source": [
        "<a href=\"https://colab.research.google.com/github/anjomnouranika/123/blob/master/maximum_number.ipynb\" target=\"_parent\"><img src=\"https://colab.research.google.com/assets/colab-badge.svg\" alt=\"Open In Colab\"/></a>"
      ]
    },
    {
      "cell_type": "code",
      "metadata": {
        "id": "szEtvEwRbZhz",
        "colab_type": "code",
        "colab": {
          "base_uri": "https://localhost:8080/",
          "height": 68
        },
        "outputId": "9f9c6eca-f978-427e-cde8-569439e06c6d"
      },
      "source": [
        "a = int(input())\n",
        "b = int(input())\n",
        "if a<b:\n",
        "  print(b)\n",
        "else:\n",
        "  print(a)  "
      ],
      "execution_count": null,
      "outputs": [
        {
          "output_type": "stream",
          "text": [
            "7\n",
            "5\n",
            "7\n"
          ],
          "name": "stdout"
        }
      ]
    },
    {
      "cell_type": "code",
      "metadata": {
        "id": "dIeva9f2it8z",
        "colab_type": "code",
        "colab": {
          "base_uri": "https://localhost:8080/",
          "height": 68
        },
        "outputId": "ae12c549-e0f0-46d1-baac-95482842be96"
      },
      "source": [
        "num1 = int(input(\"num1=\"))\n",
        "num2 = int(input(\"num2=\"))\n",
        "if num1 < num2:\n",
        "  print(\"num2\")\n",
        "elif num2 < num1:\n",
        "  print(\"num1\") \n",
        "else:\n",
        "  print(\"both are equal\")   \n",
        "   "
      ],
      "execution_count": null,
      "outputs": [
        {
          "output_type": "stream",
          "text": [
            "num1=4\n",
            "num2=9\n",
            "num2\n"
          ],
          "name": "stdout"
        }
      ]
    }
  ]
}